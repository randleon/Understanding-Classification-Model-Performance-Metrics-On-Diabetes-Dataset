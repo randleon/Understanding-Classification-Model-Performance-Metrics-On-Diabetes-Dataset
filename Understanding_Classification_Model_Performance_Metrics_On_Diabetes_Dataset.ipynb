{
 "cells": [
  {
   "cell_type": "markdown",
   "metadata": {
    "id": "ZKwZtiihVHl2"
   },
   "source": [
    "<h3><center>Understanding Classification Model Performance Metrics on Diabetes Dataset\n",
    "    <br>By Anna Imhoff and Randy Leon</br></h3></center>"
   ]
  },
  {
   "cell_type": "code",
   "execution_count": 50,
   "metadata": {
    "colab": {
     "base_uri": "https://localhost:8080/",
     "height": 206
    },
    "id": "Jzi5mg6RVHl6",
    "outputId": "ce626001-5514-4436-de62-3b3bfba8bb45"
   },
   "outputs": [
    {
     "data": {
      "text/html": [
       "<div>\n",
       "<style scoped>\n",
       "    .dataframe tbody tr th:only-of-type {\n",
       "        vertical-align: middle;\n",
       "    }\n",
       "\n",
       "    .dataframe tbody tr th {\n",
       "        vertical-align: top;\n",
       "    }\n",
       "\n",
       "    .dataframe thead th {\n",
       "        text-align: right;\n",
       "    }\n",
       "</style>\n",
       "<table border=\"1\" class=\"dataframe\">\n",
       "  <thead>\n",
       "    <tr style=\"text-align: right;\">\n",
       "      <th></th>\n",
       "      <th>pregnant</th>\n",
       "      <th>glucose</th>\n",
       "      <th>diastolic</th>\n",
       "      <th>skinfold</th>\n",
       "      <th>insulin</th>\n",
       "      <th>bmi</th>\n",
       "      <th>pedigree</th>\n",
       "      <th>age</th>\n",
       "      <th>class</th>\n",
       "      <th>scored.class</th>\n",
       "      <th>scored.probability</th>\n",
       "    </tr>\n",
       "  </thead>\n",
       "  <tbody>\n",
       "    <tr>\n",
       "      <th>0</th>\n",
       "      <td>7</td>\n",
       "      <td>124</td>\n",
       "      <td>70</td>\n",
       "      <td>33</td>\n",
       "      <td>215</td>\n",
       "      <td>25.5</td>\n",
       "      <td>0.161</td>\n",
       "      <td>37</td>\n",
       "      <td>0</td>\n",
       "      <td>0</td>\n",
       "      <td>0.328452</td>\n",
       "    </tr>\n",
       "    <tr>\n",
       "      <th>1</th>\n",
       "      <td>2</td>\n",
       "      <td>122</td>\n",
       "      <td>76</td>\n",
       "      <td>27</td>\n",
       "      <td>200</td>\n",
       "      <td>35.9</td>\n",
       "      <td>0.483</td>\n",
       "      <td>26</td>\n",
       "      <td>0</td>\n",
       "      <td>0</td>\n",
       "      <td>0.273190</td>\n",
       "    </tr>\n",
       "    <tr>\n",
       "      <th>2</th>\n",
       "      <td>3</td>\n",
       "      <td>107</td>\n",
       "      <td>62</td>\n",
       "      <td>13</td>\n",
       "      <td>48</td>\n",
       "      <td>22.9</td>\n",
       "      <td>0.678</td>\n",
       "      <td>23</td>\n",
       "      <td>1</td>\n",
       "      <td>0</td>\n",
       "      <td>0.109660</td>\n",
       "    </tr>\n",
       "    <tr>\n",
       "      <th>3</th>\n",
       "      <td>1</td>\n",
       "      <td>91</td>\n",
       "      <td>64</td>\n",
       "      <td>24</td>\n",
       "      <td>0</td>\n",
       "      <td>29.2</td>\n",
       "      <td>0.192</td>\n",
       "      <td>21</td>\n",
       "      <td>0</td>\n",
       "      <td>0</td>\n",
       "      <td>0.055998</td>\n",
       "    </tr>\n",
       "    <tr>\n",
       "      <th>4</th>\n",
       "      <td>4</td>\n",
       "      <td>83</td>\n",
       "      <td>86</td>\n",
       "      <td>19</td>\n",
       "      <td>0</td>\n",
       "      <td>29.3</td>\n",
       "      <td>0.317</td>\n",
       "      <td>34</td>\n",
       "      <td>0</td>\n",
       "      <td>0</td>\n",
       "      <td>0.100491</td>\n",
       "    </tr>\n",
       "  </tbody>\n",
       "</table>\n",
       "</div>"
      ],
      "text/plain": [
       "   pregnant  glucose  diastolic  skinfold  insulin   bmi  pedigree  age  \\\n",
       "0         7      124         70        33      215  25.5     0.161   37   \n",
       "1         2      122         76        27      200  35.9     0.483   26   \n",
       "2         3      107         62        13       48  22.9     0.678   23   \n",
       "3         1       91         64        24        0  29.2     0.192   21   \n",
       "4         4       83         86        19        0  29.3     0.317   34   \n",
       "\n",
       "   class  scored.class  scored.probability  \n",
       "0      0             0            0.328452  \n",
       "1      0             0            0.273190  \n",
       "2      1             0            0.109660  \n",
       "3      0             0            0.055998  \n",
       "4      0             0            0.100491  "
      ]
     },
     "execution_count": 50,
     "metadata": {},
     "output_type": "execute_result"
    }
   ],
   "source": [
    "#Import libraries and packages\n",
    "import pandas as pd\n",
    "import numpy as np\n",
    "import matplotlib.pyplot as plt  \n",
    "from numpy import trapz\n",
    "from sklearn.linear_model import LogisticRegression\n",
    "import sklearn.metrics as metrics\n",
    "\n",
    "#Read in the csv from Github\n",
    "df = pd.read_csv(\"https://raw.githubusercontent.com/annaimhoff/DAV-6150/main/M5_Data.csv\", sep=',')\n",
    "                 \n",
    "#View the data frame to ensure that the desired columns were selected\n",
    "df.head()"
   ]
  },
  {
   "cell_type": "code",
   "execution_count": 51,
   "metadata": {
    "colab": {
     "base_uri": "https://localhost:8080/",
     "height": 206
    },
    "id": "_iAdDcIBVHl-",
    "outputId": "ec9d36f9-7ad3-47cf-c924-37bf19651864"
   },
   "outputs": [
    {
     "data": {
      "text/html": [
       "<div>\n",
       "<style scoped>\n",
       "    .dataframe tbody tr th:only-of-type {\n",
       "        vertical-align: middle;\n",
       "    }\n",
       "\n",
       "    .dataframe tbody tr th {\n",
       "        vertical-align: top;\n",
       "    }\n",
       "\n",
       "    .dataframe thead th {\n",
       "        text-align: right;\n",
       "    }\n",
       "</style>\n",
       "<table border=\"1\" class=\"dataframe\">\n",
       "  <thead>\n",
       "    <tr style=\"text-align: right;\">\n",
       "      <th></th>\n",
       "      <th>class</th>\n",
       "      <th>scored.class</th>\n",
       "      <th>scored.probability</th>\n",
       "    </tr>\n",
       "  </thead>\n",
       "  <tbody>\n",
       "    <tr>\n",
       "      <th>0</th>\n",
       "      <td>0</td>\n",
       "      <td>0</td>\n",
       "      <td>0.328452</td>\n",
       "    </tr>\n",
       "    <tr>\n",
       "      <th>1</th>\n",
       "      <td>0</td>\n",
       "      <td>0</td>\n",
       "      <td>0.273190</td>\n",
       "    </tr>\n",
       "    <tr>\n",
       "      <th>2</th>\n",
       "      <td>1</td>\n",
       "      <td>0</td>\n",
       "      <td>0.109660</td>\n",
       "    </tr>\n",
       "    <tr>\n",
       "      <th>3</th>\n",
       "      <td>0</td>\n",
       "      <td>0</td>\n",
       "      <td>0.055998</td>\n",
       "    </tr>\n",
       "    <tr>\n",
       "      <th>4</th>\n",
       "      <td>0</td>\n",
       "      <td>0</td>\n",
       "      <td>0.100491</td>\n",
       "    </tr>\n",
       "  </tbody>\n",
       "</table>\n",
       "</div>"
      ],
      "text/plain": [
       "   class  scored.class  scored.probability\n",
       "0      0             0            0.328452\n",
       "1      0             0            0.273190\n",
       "2      1             0            0.109660\n",
       "3      0             0            0.055998\n",
       "4      0             0            0.100491"
      ]
     },
     "execution_count": 51,
     "metadata": {},
     "output_type": "execute_result"
    }
   ],
   "source": [
    "#Drop columns 0 to 7\n",
    "df = df.drop(df.columns[[0, 1, 2, 3, 4, 5, 6, 7]], axis=1)\n",
    "\n",
    "#View the data frame to ensure that the columns were removed\n",
    "df.head()"
   ]
  },
  {
   "cell_type": "markdown",
   "metadata": {
    "id": "hWB4AyqlVHl_"
   },
   "source": [
    "<b>3) Use Pandas’ crosstab() function to calculate the contents of a confusion matrix for the data. \n",
    "\n",
    "  Do the rows represent the actual or the predicted classification? What about the columns?\n",
    "\n",
    "  When observing the value_counts(), determine whether the rows or columns in the crosstab() output sum to the respective value_counts() figures.<b>"
   ]
  },
  {
   "cell_type": "code",
   "execution_count": 52,
   "metadata": {
    "colab": {
     "base_uri": "https://localhost:8080/",
     "height": 143
    },
    "id": "cdOtsMv7VHmA",
    "outputId": "67a0684f-1635-4b92-e9a4-64748b14be62"
   },
   "outputs": [
    {
     "data": {
      "text/html": [
       "<div>\n",
       "<style scoped>\n",
       "    .dataframe tbody tr th:only-of-type {\n",
       "        vertical-align: middle;\n",
       "    }\n",
       "\n",
       "    .dataframe tbody tr th {\n",
       "        vertical-align: top;\n",
       "    }\n",
       "\n",
       "    .dataframe thead th {\n",
       "        text-align: right;\n",
       "    }\n",
       "</style>\n",
       "<table border=\"1\" class=\"dataframe\">\n",
       "  <thead>\n",
       "    <tr style=\"text-align: right;\">\n",
       "      <th>scored.class</th>\n",
       "      <th>0</th>\n",
       "      <th>1</th>\n",
       "    </tr>\n",
       "    <tr>\n",
       "      <th>class</th>\n",
       "      <th></th>\n",
       "      <th></th>\n",
       "    </tr>\n",
       "  </thead>\n",
       "  <tbody>\n",
       "    <tr>\n",
       "      <th>0</th>\n",
       "      <td>119</td>\n",
       "      <td>5</td>\n",
       "    </tr>\n",
       "    <tr>\n",
       "      <th>1</th>\n",
       "      <td>30</td>\n",
       "      <td>27</td>\n",
       "    </tr>\n",
       "  </tbody>\n",
       "</table>\n",
       "</div>"
      ],
      "text/plain": [
       "scored.class    0   1\n",
       "class                \n",
       "0             119   5\n",
       "1              30  27"
      ]
     },
     "execution_count": 52,
     "metadata": {},
     "output_type": "execute_result"
    }
   ],
   "source": [
    "#Use the crosstab function to calculate the contents of the confusion matrix\n",
    "cross = pd.crosstab(df['class'], df['scored.class'])\n",
    "cross"
   ]
  },
  {
   "cell_type": "code",
   "execution_count": 53,
   "metadata": {
    "colab": {
     "base_uri": "https://localhost:8080/"
    },
    "id": "u-zOdvaCVHmC",
    "outputId": "71454887-be9b-4c58-c7a4-eb8d3608936c"
   },
   "outputs": [
    {
     "data": {
      "text/plain": [
       "0    124\n",
       "1     57\n",
       "Name: class, dtype: int64"
      ]
     },
     "execution_count": 53,
     "metadata": {},
     "output_type": "execute_result"
    }
   ],
   "source": [
    "#Use value counts to make sure we understand the output of the confusion matrix\n",
    "df['class'].value_counts()"
   ]
  },
  {
   "cell_type": "code",
   "execution_count": 54,
   "metadata": {
    "colab": {
     "base_uri": "https://localhost:8080/"
    },
    "id": "wErW4lTGVHmE",
    "outputId": "4f1e0c0c-548e-4f6b-87e7-56fee086369d"
   },
   "outputs": [
    {
     "data": {
      "text/plain": [
       "0    149\n",
       "1     32\n",
       "Name: scored.class, dtype: int64"
      ]
     },
     "execution_count": 54,
     "metadata": {},
     "output_type": "execute_result"
    }
   ],
   "source": [
    "#Use value counts to make sure we understand the output of the confusion matrix\n",
    "df['scored.class'].value_counts()"
   ]
  },
  {
   "cell_type": "markdown",
   "metadata": {
    "id": "li-GMALTV6DK"
   },
   "source": [
    "Using the crosstab and value_counts functions, we can see that:\n",
    "\n",
    "- A total of 124 (0) values in the 'class' row, **119** of which were guessed *correctly* in the column 'scored.class' and **5** guessed *incorrectly*.\n",
    "\n",
    "- A total of 57 (1) values in the 'class' row, **30** of which were guessed *incorrectly* and **27** of them guessed *correctly*.\n",
    "\n",
    "- ***Rows*** represent value counts in 'class', the actual classifications, and ***columns*** represent value counts in 'scored.class' which are the predicted classifications."
   ]
  },
  {
   "cell_type": "markdown",
   "metadata": {
    "id": "pGrR8QM8VHmE"
   },
   "source": [
    "<b>4) Extract the individual confusion matrix values, saving them for later use.</b>"
   ]
  },
  {
   "cell_type": "code",
   "execution_count": 55,
   "metadata": {
    "colab": {
     "base_uri": "https://localhost:8080/"
    },
    "id": "iRBxSPM1VHmF",
    "outputId": "cc1bf348-c927-4312-a24a-18a5db23bfab"
   },
   "outputs": [
    {
     "name": "stdout",
     "output_type": "stream",
     "text": [
      "119\n",
      "30\n",
      "27\n",
      "5\n"
     ]
    }
   ],
   "source": [
    "tn=cross.at[0, 0]\n",
    "fn=cross.at[1, 0]\n",
    "tp=cross.at[1, 1]\n",
    "fp=cross.at[0, 1]\n",
    "\n",
    "#View the individual values, true negative, false negative, true positive, and false positive.\n",
    "print(tn)\n",
    "print(fn)\n",
    "print(tp)\n",
    "print(fp)"
   ]
  },
  {
   "cell_type": "markdown",
   "metadata": {
    "id": "_rAGu7z9VHmH"
   },
   "source": [
    "<b> 5) Write a Python function that calculates and returns the *accuracy* metric.</b>"
   ]
  },
  {
   "cell_type": "code",
   "execution_count": 56,
   "metadata": {
    "colab": {
     "base_uri": "https://localhost:8080/"
    },
    "id": "cS7-JKcJaGQ8",
    "outputId": "a8acdb28-6b8d-46d6-e49d-7a2f3e790fd2"
   },
   "outputs": [
    {
     "name": "stdout",
     "output_type": "stream",
     "text": [
      "0.8066298342541437\n"
     ]
    }
   ],
   "source": [
    "def acc_function():\n",
    "\n",
    "  df3 = pd.crosstab(df['class'], df['scored.class'], margins=True)\n",
    "  true_neg=df3.at[0, 0]\n",
    "  true_pos=df3.at[1, 1]\n",
    "  total_classified=df3.iat[2, 2]\n",
    "  print(((true_neg)+(true_pos))/(total_classified))\n",
    "  return\n",
    "  \n",
    "acc_function()"
   ]
  },
  {
   "cell_type": "markdown",
   "metadata": {
    "id": "7HkuCyvPVHmJ"
   },
   "source": [
    "<b> 6) Write a Python function that calculates and returns the *precision* metric.</b>"
   ]
  },
  {
   "cell_type": "code",
   "execution_count": 57,
   "metadata": {
    "colab": {
     "base_uri": "https://localhost:8080/"
    },
    "id": "zoKRX8Nnbvlq",
    "outputId": "cc53017d-99ed-4599-a0db-d7afb8995426"
   },
   "outputs": [
    {
     "name": "stdout",
     "output_type": "stream",
     "text": [
      "0.84375\n"
     ]
    }
   ],
   "source": [
    "def prec_function():\n",
    "\n",
    "  df3 = pd.crosstab(df['class'], df['scored.class'], margins=True)\n",
    "  true_pos=df3.at[1, 1]\n",
    "  false_pos=df3.at[0, 1]\n",
    "  print((true_pos)/((true_pos)+(false_pos)))\n",
    "  return\n",
    "  \n",
    "prec_function()"
   ]
  },
  {
   "cell_type": "markdown",
   "metadata": {
    "id": "6mEN07TucFuv"
   },
   "source": [
    "<b> 7) Write a Python function that calculates and returns the *sensitivity* metric.</b>"
   ]
  },
  {
   "cell_type": "code",
   "execution_count": 58,
   "metadata": {
    "colab": {
     "base_uri": "https://localhost:8080/"
    },
    "id": "o83PKtB4cD5w",
    "outputId": "89f79b5f-5eb8-4e30-aae4-34fb1509d7db"
   },
   "outputs": [
    {
     "name": "stdout",
     "output_type": "stream",
     "text": [
      "0.47368421052631576\n"
     ]
    }
   ],
   "source": [
    "def sens_function():\n",
    "\n",
    "  df3 = pd.crosstab(df['class'], df['scored.class'], margins=True)\n",
    "  false_neg=df3.at[1, 0]\n",
    "  true_pos=df3.at[1, 1]\n",
    "  print((true_pos)/((true_pos)+(false_neg)))\n",
    "  return\n",
    "  \n",
    "sens_function()"
   ]
  },
  {
   "cell_type": "markdown",
   "metadata": {
    "id": "AEcVa0p0cW1I"
   },
   "source": [
    "<b> 8) Write a Python function that calculates and returns the *specificity* metric.</b>"
   ]
  },
  {
   "cell_type": "code",
   "execution_count": 59,
   "metadata": {
    "colab": {
     "base_uri": "https://localhost:8080/"
    },
    "id": "nB9fpr6OcgBX",
    "outputId": "30078d65-0900-43c3-ff1d-15a6d5521e08"
   },
   "outputs": [
    {
     "name": "stdout",
     "output_type": "stream",
     "text": [
      "0.9596774193548387\n"
     ]
    }
   ],
   "source": [
    "def spec_function():\n",
    "\n",
    "  df3 = pd.crosstab(df['class'], df['scored.class'], margins=True)\n",
    "  true_neg=df3.at[0, 0]\n",
    "  false_pos=df3.at[0, 1]\n",
    "  print((true_neg)/((true_neg)+(false_pos)))\n",
    "  return\n",
    "  \n",
    "spec_function()"
   ]
  },
  {
   "cell_type": "markdown",
   "metadata": {
    "id": "SD1sJgnhcsSu"
   },
   "source": [
    "<b> 9) Write a Python function that calculates and returns the *F1 Score* metric.</b>"
   ]
  },
  {
   "cell_type": "code",
   "execution_count": 60,
   "metadata": {
    "colab": {
     "base_uri": "https://localhost:8080/"
    },
    "id": "Pb-S3vstcyc5",
    "outputId": "0e6940f7-7a32-42b1-e529-8e36ac506b76"
   },
   "outputs": [
    {
     "name": "stdout",
     "output_type": "stream",
     "text": [
      "0.6067415730337079\n"
     ]
    }
   ],
   "source": [
    "def F1_function():\n",
    "\n",
    "  df3 = pd.crosstab(df['class'], df['scored.class'], margins=True)\n",
    "\n",
    "  true_neg=df3.at[0, 0]\n",
    "  false_neg=df3.at[1, 0]\n",
    "  true_pos=df3.at[1, 1]\n",
    "  false_pos=df3.at[0, 1]\n",
    "\n",
    "  precision = (true_pos)/((true_pos)+(false_pos))\n",
    "  recall = (true_pos)/((true_pos)+(false_neg))\n",
    "  print(2*(precision*recall)/(precision+recall))\n",
    "\n",
    "  return\n",
    "\n",
    "F1_function()"
   ]
  },
  {
   "cell_type": "markdown",
   "metadata": {
    "id": "3-cMSH-OVHmS"
   },
   "source": [
    "<b>10) Write a Python function to plot a *ROC curve* and calculate the *AUC*</b>."
   ]
  },
  {
   "cell_type": "code",
   "execution_count": 61,
   "metadata": {
    "id": "gLlVbGREVHmS"
   },
   "outputs": [],
   "source": [
    "#Source: https://www.youtube.com/watch?v=afQ_DyKMxUo\n",
    "\n",
    "#Make our thresholds all numbers between 0.00 - 1.04 with an interval of 0.01\n",
    "thresholds = list(np.array(list(range(0, 105, 1)))/100)\n",
    "\n",
    "#Make list of coordinates with x's as true positive rates and y's as false positive rates\n",
    "roc_point = []\n",
    "\n",
    "#Function to iterate through our df increasing each variable by one, for each threshold in our range\n",
    "#Finding true positives, false positives, false negatives, and true negatives.\n",
    "for threshold in thresholds:\n",
    "    \n",
    "    tp = 0; fp = 0; fn = 0; tn = 0\n",
    "\n",
    "    for index, instance in df.iterrows():\n",
    "        actual = instance['class']\n",
    "        prediction = instance['scored.probability']\n",
    "\n",
    "        if prediction >= threshold:\n",
    "            prediction_class = 1\n",
    "        else:\n",
    "            prediction_class = 0\n",
    "        \n",
    "        if prediction_class == 1 and actual == 1:\n",
    "            tp = tp + 1\n",
    "        elif actual == 1 and prediction_class == 0:\n",
    "            fn = fn + 1\n",
    "        elif actual == 0 and prediction_class == 1:\n",
    "            fp = fp + 1\n",
    "        elif actual == 0 and prediction_class == 0:\n",
    "            tn = tn + 1\n",
    "\n",
    "#True positive rate or sensitvity\n",
    "#False positive rate or (1 - specificity)\n",
    "    tpr = tp /(tp + fn)\n",
    "    fpr = fp /(tn + fp)\n",
    "\n",
    "#Adding to the list of coordinates, tpr and fpr\n",
    "    roc_point.append([tpr, fpr])"
   ]
  },
  {
   "cell_type": "code",
   "execution_count": 62,
   "metadata": {
    "colab": {
     "base_uri": "https://localhost:8080/",
     "height": 363
    },
    "id": "mLo-FYymVHmT",
    "outputId": "04f2d1ed-1452-41f8-c9f9-0ae9b24f53e6"
   },
   "outputs": [
    {
     "data": {
      "text/html": [
       "<div>\n",
       "<style scoped>\n",
       "    .dataframe tbody tr th:only-of-type {\n",
       "        vertical-align: middle;\n",
       "    }\n",
       "\n",
       "    .dataframe tbody tr th {\n",
       "        vertical-align: top;\n",
       "    }\n",
       "\n",
       "    .dataframe thead th {\n",
       "        text-align: right;\n",
       "    }\n",
       "</style>\n",
       "<table border=\"1\" class=\"dataframe\">\n",
       "  <thead>\n",
       "    <tr style=\"text-align: right;\">\n",
       "      <th></th>\n",
       "      <th>x</th>\n",
       "      <th>y</th>\n",
       "      <th>threshold</th>\n",
       "    </tr>\n",
       "  </thead>\n",
       "  <tbody>\n",
       "    <tr>\n",
       "      <th>0</th>\n",
       "      <td>1.0</td>\n",
       "      <td>1.000000</td>\n",
       "      <td>0.00</td>\n",
       "    </tr>\n",
       "    <tr>\n",
       "      <th>1</th>\n",
       "      <td>1.0</td>\n",
       "      <td>1.000000</td>\n",
       "      <td>0.01</td>\n",
       "    </tr>\n",
       "    <tr>\n",
       "      <th>2</th>\n",
       "      <td>1.0</td>\n",
       "      <td>1.000000</td>\n",
       "      <td>0.02</td>\n",
       "    </tr>\n",
       "    <tr>\n",
       "      <th>3</th>\n",
       "      <td>1.0</td>\n",
       "      <td>0.975806</td>\n",
       "      <td>0.03</td>\n",
       "    </tr>\n",
       "    <tr>\n",
       "      <th>4</th>\n",
       "      <td>1.0</td>\n",
       "      <td>0.967742</td>\n",
       "      <td>0.04</td>\n",
       "    </tr>\n",
       "    <tr>\n",
       "      <th>5</th>\n",
       "      <td>1.0</td>\n",
       "      <td>0.951613</td>\n",
       "      <td>0.05</td>\n",
       "    </tr>\n",
       "    <tr>\n",
       "      <th>6</th>\n",
       "      <td>1.0</td>\n",
       "      <td>0.903226</td>\n",
       "      <td>0.06</td>\n",
       "    </tr>\n",
       "    <tr>\n",
       "      <th>7</th>\n",
       "      <td>1.0</td>\n",
       "      <td>0.846774</td>\n",
       "      <td>0.07</td>\n",
       "    </tr>\n",
       "    <tr>\n",
       "      <th>8</th>\n",
       "      <td>1.0</td>\n",
       "      <td>0.822581</td>\n",
       "      <td>0.08</td>\n",
       "    </tr>\n",
       "    <tr>\n",
       "      <th>9</th>\n",
       "      <td>1.0</td>\n",
       "      <td>0.774194</td>\n",
       "      <td>0.09</td>\n",
       "    </tr>\n",
       "  </tbody>\n",
       "</table>\n",
       "</div>"
      ],
      "text/plain": [
       "     x         y  threshold\n",
       "0  1.0  1.000000       0.00\n",
       "1  1.0  1.000000       0.01\n",
       "2  1.0  1.000000       0.02\n",
       "3  1.0  0.975806       0.03\n",
       "4  1.0  0.967742       0.04\n",
       "5  1.0  0.951613       0.05\n",
       "6  1.0  0.903226       0.06\n",
       "7  1.0  0.846774       0.07\n",
       "8  1.0  0.822581       0.08\n",
       "9  1.0  0.774194       0.09"
      ]
     },
     "execution_count": 62,
     "metadata": {},
     "output_type": "execute_result"
    }
   ],
   "source": [
    "#Data frame that shows tprs, fprs and thresholds\n",
    "pivot = pd.DataFrame(roc_point, columns = [\"x\", \"y\"])\n",
    "pivot['threshold'] = thresholds\n",
    "\n",
    "#View pivot\n",
    "pivot.head(10)"
   ]
  },
  {
   "cell_type": "code",
   "execution_count": 63,
   "metadata": {
    "colab": {
     "base_uri": "https://localhost:8080/",
     "height": 297
    },
    "id": "4XPFmk2nVHmV",
    "outputId": "5cd80a4c-834a-438b-c7ec-1e25399031ac"
   },
   "outputs": [
    {
     "data": {
      "text/plain": [
       "Text(0, 0.5, 'true positive rate')"
      ]
     },
     "execution_count": 63,
     "metadata": {},
     "output_type": "execute_result"
    },
    {
     "data": {
      "image/png": "[encoded data removed]",
      "text/plain": [
       "<Figure size 640x480 with 1 Axes>"
      ]
     },
     "metadata": {},
     "output_type": "display_data"
    }
   ],
   "source": [
    "#Plot the ROC Curve\n",
    "plt.scatter(pivot.y, pivot.x)\n",
    "plt.plot([0,1])\n",
    "plt.xlabel('false positive rate')\n",
    "plt.ylabel('true positive rate')"
   ]
  },
  {
   "cell_type": "code",
   "execution_count": 64,
   "metadata": {
    "colab": {
     "base_uri": "https://localhost:8080/"
    },
    "id": "_mcZg5BsVHmW",
    "outputId": "82bc8c7e-e101-4345-94a1-091187d7c4c8"
   },
   "outputs": [
    {
     "data": {
      "text/plain": [
       "0.8489"
      ]
     },
     "execution_count": 64,
     "metadata": {},
     "output_type": "execute_result"
    }
   ],
   "source": [
    "#Calculate the AUC using the trapz function\n",
    "auc = round(abs(np.trapz(pivot.x, pivot.y)), 4)\n",
    "auc"
   ]
  },
  {
   "cell_type": "markdown",
   "metadata": {
    "id": "Dha_eTm8oEFi"
   },
   "source": [
    "<b>11) Apply the Python functions you’ve created to the relevant columns of the provided data set to produce the classification metrics specified in steps 5 through 9.<b>"
   ]
  },
  {
   "cell_type": "code",
   "execution_count": 65,
   "metadata": {
    "colab": {
     "base_uri": "https://localhost:8080/"
    },
    "id": "AQDfNkANoQQX",
    "outputId": "6ba7f797-8e34-4ac1-b432-4bcf5e616ecd"
   },
   "outputs": [
    {
     "name": "stdout",
     "output_type": "stream",
     "text": [
      "accuracy\n",
      "0.8066298342541437\n",
      "precision\n",
      "0.84375\n",
      "sensitivity\n",
      "0.47368421052631576\n",
      "specificity\n",
      "0.9596774193548387\n",
      "F1\n",
      "0.6067415730337079\n"
     ]
    },
    {
     "data": {
      "text/plain": [
       "(None, None)"
      ]
     },
     "execution_count": 65,
     "metadata": {},
     "output_type": "execute_result"
    }
   ],
   "source": [
    "print(\"accuracy\"), acc_function()\n",
    "print(\"precision\"), prec_function()\n",
    "print(\"sensitivity\"), sens_function()\n",
    "print(\"specificity\"), spec_function()\n",
    "print(\"F1\"), F1_function()"
   ]
  },
  {
   "cell_type": "markdown",
   "metadata": {
    "id": "XZTE7a1yp1cO"
   },
   "source": [
    "<b> 12) Now compare the output of your functions against the output of the pre-built functions available within the *scikit-learn* library. \n",
    "\n",
    "Specifically, apply the confusion_matrix(), accuracy_score(),  precision_score(), recall_score()(remember: recall = sensitivity), f1_score(), and the metrics.classification_report() functions to the relevant columns of the provided data set. \n",
    "\n",
    "Discuss how well the results of these pre-built functions compare to those of the functions you’ve created for this assignment.<b>"
   ]
  },
  {
   "cell_type": "code",
   "execution_count": 66,
   "metadata": {
    "colab": {
     "base_uri": "https://localhost:8080/"
    },
    "id": "G50Ag7fBVHmX",
    "outputId": "8c713bcb-1b50-4911-e259-0e53486e9444"
   },
   "outputs": [
    {
     "data": {
      "text/plain": [
       "array([[119,   5],\n",
       "       [ 30,  27]])"
      ]
     },
     "execution_count": 66,
     "metadata": {},
     "output_type": "execute_result"
    }
   ],
   "source": [
    "#Use confusion_matrix() from scikit-learn\n",
    "from sklearn.metrics import confusion_matrix\n",
    "y_test = df['class']\n",
    "y_pred = df['scored.class']\n",
    "confusion_matrix(y_test, y_pred)"
   ]
  },
  {
   "cell_type": "code",
   "execution_count": 67,
   "metadata": {
    "id": "_pLfJFyNBZtH",
    "outputId": "5099b8ed-047a-46cd-de7d-b960abe3c4cf"
   },
   "outputs": [
    {
     "data": {
      "text/html": [
       "<div>\n",
       "<style scoped>\n",
       "    .dataframe tbody tr th:only-of-type {\n",
       "        vertical-align: middle;\n",
       "    }\n",
       "\n",
       "    .dataframe tbody tr th {\n",
       "        vertical-align: top;\n",
       "    }\n",
       "\n",
       "    .dataframe thead th {\n",
       "        text-align: right;\n",
       "    }\n",
       "</style>\n",
       "<table border=\"1\" class=\"dataframe\">\n",
       "  <thead>\n",
       "    <tr style=\"text-align: right;\">\n",
       "      <th>scored.class</th>\n",
       "      <th>0</th>\n",
       "      <th>1</th>\n",
       "    </tr>\n",
       "    <tr>\n",
       "      <th>class</th>\n",
       "      <th></th>\n",
       "      <th></th>\n",
       "    </tr>\n",
       "  </thead>\n",
       "  <tbody>\n",
       "    <tr>\n",
       "      <th>0</th>\n",
       "      <td>119</td>\n",
       "      <td>5</td>\n",
       "    </tr>\n",
       "    <tr>\n",
       "      <th>1</th>\n",
       "      <td>30</td>\n",
       "      <td>27</td>\n",
       "    </tr>\n",
       "  </tbody>\n",
       "</table>\n",
       "</div>"
      ],
      "text/plain": [
       "scored.class    0   1\n",
       "class                \n",
       "0             119   5\n",
       "1              30  27"
      ]
     },
     "execution_count": 67,
     "metadata": {},
     "output_type": "execute_result"
    }
   ],
   "source": [
    "#Compare to crosstab from question 3\n",
    "cross"
   ]
  },
  {
   "cell_type": "markdown",
   "metadata": {
    "id": "7LoG6sSkqgsT"
   },
   "source": [
    "Identical results when compared to our crosstab function."
   ]
  },
  {
   "cell_type": "code",
   "execution_count": 68,
   "metadata": {
    "colab": {
     "base_uri": "https://localhost:8080/"
    },
    "id": "tD5SkKE7VHmY",
    "outputId": "36fe4b16-7a22-48d1-b728-ecac8305135a"
   },
   "outputs": [
    {
     "data": {
      "text/plain": [
       "0.8066298342541437"
      ]
     },
     "execution_count": 68,
     "metadata": {},
     "output_type": "execute_result"
    }
   ],
   "source": [
    "#Use accuracy_score() from scikit-learn\n",
    "from sklearn.metrics import accuracy_score\n",
    "accuracy_score(y_test, y_pred)"
   ]
  },
  {
   "cell_type": "code",
   "execution_count": 69,
   "metadata": {
    "colab": {
     "base_uri": "https://localhost:8080/"
    },
    "id": "MNn-taq4rWZ3",
    "outputId": "8a34aff7-485d-44ae-f07d-91070869737b"
   },
   "outputs": [
    {
     "name": "stdout",
     "output_type": "stream",
     "text": [
      "0.8066298342541437\n"
     ]
    }
   ],
   "source": [
    "#Compare to accuracy function from question 5\n",
    "acc_function()"
   ]
  },
  {
   "cell_type": "code",
   "execution_count": 70,
   "metadata": {
    "colab": {
     "base_uri": "https://localhost:8080/"
    },
    "id": "KbNOz3QDVHmY",
    "outputId": "fa09c7e5-d541-4f5a-f03f-0c5f4deb12ff"
   },
   "outputs": [
    {
     "data": {
      "text/plain": [
       "0.84375"
      ]
     },
     "execution_count": 70,
     "metadata": {},
     "output_type": "execute_result"
    }
   ],
   "source": [
    "#Use precision_score() from scikit-learn\n",
    "from sklearn.metrics import precision_score\n",
    "precision_score(y_test, y_pred)"
   ]
  },
  {
   "cell_type": "code",
   "execution_count": 71,
   "metadata": {
    "colab": {
     "base_uri": "https://localhost:8080/"
    },
    "id": "8uU-WN9Grj6z",
    "outputId": "196e95bf-00ad-45d0-81f7-bd213673d569"
   },
   "outputs": [
    {
     "name": "stdout",
     "output_type": "stream",
     "text": [
      "0.84375\n"
     ]
    }
   ],
   "source": [
    "#Compare to precision function from question 6\n",
    "prec_function()"
   ]
  },
  {
   "cell_type": "code",
   "execution_count": 72,
   "metadata": {
    "colab": {
     "base_uri": "https://localhost:8080/"
    },
    "id": "ZXMHQ0wfVHmZ",
    "outputId": "e8b03705-f5ab-4a9f-c7ff-1be099fd70ae"
   },
   "outputs": [
    {
     "data": {
      "text/plain": [
       "0.47368421052631576"
      ]
     },
     "execution_count": 72,
     "metadata": {},
     "output_type": "execute_result"
    }
   ],
   "source": [
    "#Use recall_score() from scikit-learn\n",
    "from sklearn.metrics import recall_score\n",
    "recall_score(y_test, y_pred)"
   ]
  },
  {
   "cell_type": "code",
   "execution_count": 73,
   "metadata": {
    "colab": {
     "base_uri": "https://localhost:8080/"
    },
    "id": "IX_-InJDrl8-",
    "outputId": "6d4baad3-e560-44c1-cd65-30d5a21150a7"
   },
   "outputs": [
    {
     "name": "stdout",
     "output_type": "stream",
     "text": [
      "0.47368421052631576\n"
     ]
    }
   ],
   "source": [
    "#Compare to sensitivity function from question 7\n",
    "sens_function()"
   ]
  },
  {
   "cell_type": "code",
   "execution_count": 74,
   "metadata": {
    "colab": {
     "base_uri": "https://localhost:8080/"
    },
    "id": "xJwD94-jVHma",
    "outputId": "565b46e2-ac36-4b2d-d604-ed5963e36214"
   },
   "outputs": [
    {
     "data": {
      "text/plain": [
       "0.6067415730337079"
      ]
     },
     "execution_count": 74,
     "metadata": {},
     "output_type": "execute_result"
    }
   ],
   "source": [
    "#Use f1_score() from scikit-learn\n",
    "from sklearn.metrics import f1_score\n",
    "f1_score(y_test, y_pred)"
   ]
  },
  {
   "cell_type": "code",
   "execution_count": 75,
   "metadata": {
    "colab": {
     "base_uri": "https://localhost:8080/"
    },
    "id": "fZF7SaO0ruKc",
    "outputId": "996c07c7-d61c-41cb-ca8d-28151a204bd0"
   },
   "outputs": [
    {
     "name": "stdout",
     "output_type": "stream",
     "text": [
      "0.6067415730337079\n"
     ]
    }
   ],
   "source": [
    "#Compare to F1 score function from question 9\n",
    "F1_function()"
   ]
  },
  {
   "cell_type": "code",
   "execution_count": 76,
   "metadata": {
    "colab": {
     "base_uri": "https://localhost:8080/"
    },
    "id": "5asBRVzMVHma",
    "outputId": "f599406a-f70f-4898-8b20-49ee046e55b7",
    "scrolled": true
   },
   "outputs": [
    {
     "name": "stdout",
     "output_type": "stream",
     "text": [
      "              precision    recall  f1-score   support\n",
      "\n",
      "           0       0.80      0.96      0.87       124\n",
      "           1       0.84      0.47      0.61        57\n",
      "\n",
      "    accuracy                           0.81       181\n",
      "   macro avg       0.82      0.72      0.74       181\n",
      "weighted avg       0.81      0.81      0.79       181\n",
      "\n"
     ]
    }
   ],
   "source": [
    "#Use metrics.classification_report() from scikit-learn\n",
    "from sklearn.metrics import classification_report\n",
    "target_names = ['0', '1']\n",
    "print(classification_report(y_test, y_pred, target_names=target_names))"
   ]
  },
  {
   "cell_type": "markdown",
   "metadata": {
    "id": "ebRoNy-9r3N_"
   },
   "source": [
    "We saw identical results when using the functions we created to calculate the crosstab, accuracy, precision, sensitivity (recall), and F1 score, as compared to using the pre-built functions in the scikit-learn package."
   ]
  },
  {
   "cell_type": "markdown",
   "metadata": {
    "id": "RsyHTrDpvEwn"
   },
   "source": [
    "<b> 13) Using the metrics.plot_roc_curve () and metrics.auc() functions from the scikit-learn package to generate a ROC plot and calculate AUC for the provided data set. <b>"
   ]
  },
  {
   "cell_type": "code",
   "execution_count": 77,
   "metadata": {
    "id": "KlHyZBdrVHmb"
   },
   "outputs": [],
   "source": [
    "#Source: https://stackoverflow.com/questions/25009284/how-to-plot-roc-curve-in-python\n",
    "#Assign x and y values for the curve\n",
    "y = df.iloc[:,0].values\n",
    "X = df.iloc[:,2].values"
   ]
  },
  {
   "cell_type": "code",
   "execution_count": 78,
   "metadata": {
    "id": "IGGK2i0aVHmc"
   },
   "outputs": [],
   "source": [
    "#Split the data set into training and test with a test size containing 33% of the data\n",
    "from sklearn.model_selection import train_test_split\n",
    "X_train, X_test, y_train, y_test = train_test_split(X, y, test_size=0.33, random_state=12) "
   ]
  },
  {
   "cell_type": "code",
   "execution_count": 79,
   "metadata": {
    "id": "W2ToQfzeVHmc"
   },
   "outputs": [],
   "source": [
    "#Use LogisticRegression model from scikit-learn\n",
    "clf = LogisticRegression()\n",
    "clf.fit(X_train.reshape(-1,1), y_train)\n",
    "y_pred = clf.predict(X_test.reshape(-1,1))"
   ]
  },
  {
   "cell_type": "code",
   "execution_count": 80,
   "metadata": {
    "colab": {
     "base_uri": "https://localhost:8080/",
     "height": 400
    },
    "id": "iVGQYGekVHmc",
    "outputId": "a042345d-eb4b-4913-f61c-2411b645bc72",
    "scrolled": true
   },
   "outputs": [
    {
     "data": {
      "image/png": "[encoded data removed]",
      "text/plain": [
       "<Figure size 640x480 with 1 Axes>"
      ]
     },
     "metadata": {},
     "output_type": "display_data"
    }
   ],
   "source": [
    "#Plot\n",
    "#Show AUC score on the graph\n",
    "y_pred_proba = clf.predict_proba(X_test.reshape(-1,1))[::,1]\n",
    "fpr, tpr, _ = metrics.roc_curve(y_test, y_pred_proba)\n",
    "auc = metrics.roc_auc_score(y_test, y_pred_proba)\n",
    "plt.plot(fpr,tpr,label=\"ROC, auc=\"+str(auc))\n",
    "plt.legend(loc=4)\n",
    "plt.plot([0,1])\n",
    "plt.show()"
   ]
  },
  {
   "cell_type": "code",
   "execution_count": 81,
   "metadata": {
    "id": "EVyTfhR6VHmc",
    "outputId": "6c50caff-fe12-4931-ac8d-690961ca2964"
   },
   "outputs": [
    {
     "data": {
      "text/plain": [
       "0.843915343915344"
      ]
     },
     "execution_count": 81,
     "metadata": {},
     "output_type": "execute_result"
    }
   ],
   "source": [
    "#Use roc_auc_score() from scikit-learn to calculate the AUC score\n",
    "from sklearn.metrics import roc_auc_score\n",
    "roc_auc_score(y_test, y_pred_proba)"
   ]
  },
  {
   "cell_type": "code",
   "execution_count": 82,
   "metadata": {
    "colab": {
     "base_uri": "https://localhost:8080/",
     "height": 297
    },
    "id": "YRhyOveksMYf",
    "outputId": "f4f00a22-6764-445d-f667-6cf46d2a917a"
   },
   "outputs": [
    {
     "data": {
      "text/plain": [
       "Text(0, 0.5, 'true positive rate')"
      ]
     },
     "execution_count": 82,
     "metadata": {},
     "output_type": "execute_result"
    },
    {
     "data": {
      "image/png": "[encoded data removed]",
      "text/plain": [
       "<Figure size 640x480 with 1 Axes>"
      ]
     },
     "metadata": {},
     "output_type": "display_data"
    }
   ],
   "source": [
    "#Compare to ROC Curve from question 10\n",
    "plt.scatter(pivot.y, pivot.x)\n",
    "plt.plot([0,1])\n",
    "plt.xlabel('false positive rate')\n",
    "plt.ylabel('true positive rate')"
   ]
  },
  {
   "cell_type": "markdown",
   "metadata": {
    "id": "x_HlZ5Oxtd3c"
   },
   "source": [
    "Using the scikit-learn package produces a more rigid looking graph with an AUC of 0.8439. \n",
    "Using matplotlib, the ROC curve shows each point which made a smoother looking graph with an AUC of 0.8489.  These AUC values are very close to each other but not identical like we saw with the other values from above."
   ]
  },
  {
   "cell_type": "code",
   "execution_count": null,
   "metadata": {
    "id": "3IrW1VhHBZtQ"
   },
   "outputs": [],
   "source": []
  }
 ],
 "metadata": {
  "colab": {
   "collapsed_sections": [],
   "name": "R_Leon_M5_assn.ipynb",
   "provenance": []
  },
  "kernelspec": {
   "display_name": "Python 3 (ipykernel)",
   "language": "python",
   "name": "python3"
  },
  "language_info": {
   "codemirror_mode": {
    "name": "ipython",
    "version": 3
   },
   "file_extension": ".py",
   "mimetype": "text/x-python",
   "name": "python",
   "nbconvert_exporter": "python",
   "pygments_lexer": "ipython3",
   "version": "3.11.3"
  }
 },
 "nbformat": 4,
 "nbformat_minor": 1
}
